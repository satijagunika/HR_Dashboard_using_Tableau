{
  "nbformat": 4,
  "nbformat_minor": 0,
  "metadata": {
    "colab": {
      "provenance": [],
      "authorship_tag": "ABX9TyPA71GD6rlahaKI6rE6RYg0",
      "include_colab_link": true
    },
    "kernelspec": {
      "name": "python3",
      "display_name": "Python 3"
    },
    "language_info": {
      "name": "python"
    }
  },
  "cells": [
    {
      "cell_type": "markdown",
      "metadata": {
        "id": "view-in-github",
        "colab_type": "text"
      },
      "source": [
        "<a href=\"https://colab.research.google.com/github/satijagunika/HR_Dashboard_using_Tableau/blob/main/Tableau_HR_project.ipynb\" target=\"_parent\"><img src=\"https://colab.research.google.com/assets/colab-badge.svg\" alt=\"Open In Colab\"/></a>"
      ]
    },
    {
      "cell_type": "code",
      "source": [
        "!pip install faker"
      ],
      "metadata": {
        "colab": {
          "base_uri": "https://localhost:8080/"
        },
        "id": "MbGeho0TU2R9",
        "outputId": "a01765b9-1cb0-4011-afa2-eb7110232524"
      },
      "execution_count": 3,
      "outputs": [
        {
          "output_type": "stream",
          "name": "stdout",
          "text": [
            "Collecting faker\n",
            "  Downloading Faker-26.1.0-py3-none-any.whl.metadata (15 kB)\n",
            "Requirement already satisfied: python-dateutil>=2.4 in /usr/local/lib/python3.10/dist-packages (from faker) (2.8.2)\n",
            "Requirement already satisfied: six>=1.5 in /usr/local/lib/python3.10/dist-packages (from python-dateutil>=2.4->faker) (1.16.0)\n",
            "Downloading Faker-26.1.0-py3-none-any.whl (1.8 MB)\n",
            "\u001b[?25l   \u001b[90m━━━━━━━━━━━━━━━━━━━━━━━━━━━━━━━━━━━━━━━━\u001b[0m \u001b[32m0.0/1.8 MB\u001b[0m \u001b[31m?\u001b[0m eta \u001b[36m-:--:--\u001b[0m\r\u001b[2K   \u001b[91m━━━━━━━━━━━━━━━━━━━━━━━━━━━━━━\u001b[0m\u001b[91m╸\u001b[0m\u001b[90m━━━━━━━━━\u001b[0m \u001b[32m1.4/1.8 MB\u001b[0m \u001b[31m41.8 MB/s\u001b[0m eta \u001b[36m0:00:01\u001b[0m\r\u001b[2K   \u001b[90m━━━━━━━━━━━━━━━━━━━━━━━━━━━━━━━━━━━━━━━━\u001b[0m \u001b[32m1.8/1.8 MB\u001b[0m \u001b[31m30.2 MB/s\u001b[0m eta \u001b[36m0:00:00\u001b[0m\n",
            "\u001b[?25hInstalling collected packages: faker\n",
            "Successfully installed faker-26.1.0\n"
          ]
        }
      ]
    },
    {
      "cell_type": "code",
      "source": [
        "import pandas as pd\n",
        "import numpy as np\n",
        "from faker import Faker\n",
        "from datetime import datetime, timedelta\n",
        "import random\n",
        "\n",
        "# Initialize Faker\n",
        "fake = Faker()\n",
        "\n",
        "# Parameters\n",
        "n_records = 8950\n",
        "departments = {\n",
        "    'HR': ['HR Manager', 'HR Assistant', 'HR Specialist'],\n",
        "    'Engineering': ['Software Engineer', 'Senior Software Engineer', 'Engineering Manager'],\n",
        "    'Sales': ['Sales Manager', 'Sales Representative', 'Sales Associate'],\n",
        "    'Finance': ['Finance Manager', 'Financial Analyst', 'Accountant']\n",
        "}\n",
        "education_levels = {\n",
        "    'HR Manager': 'Master\\'s',\n",
        "    'HR Assistant': 'Bachelor\\'s',\n",
        "    'HR Specialist': 'Bachelor\\'s',\n",
        "    'Software Engineer': 'Bachelor\\'s',\n",
        "    'Senior Software Engineer': 'Master\\'s',\n",
        "    'Engineering Manager': 'Master\\'s',\n",
        "    'Sales Manager': 'Bachelor\\'s',\n",
        "    'Sales Representative': 'Bachelor\\'s',\n",
        "    'Sales Associate': 'Associate\\'s',\n",
        "    'Finance Manager': 'Master\\'s',\n",
        "    'Financial Analyst': 'Bachelor\\'s',\n",
        "    'Accountant': 'Bachelor\\'s'\n",
        "}\n",
        "performance_ratings = ['Excellent', 'Good', 'Satisfactory', 'Needs Improvement']\n",
        "states_and_cities = {\n",
        "    'California': ['Los Angeles', 'San Francisco', 'San Diego'],\n",
        "    'Texas': ['Houston', 'Dallas', 'Austin'],\n",
        "    'New York': ['New York City', 'Buffalo', 'Rochester'],\n",
        "    'Florida': ['Miami', 'Orlando', 'Tampa']\n",
        "}\n",
        "gender_distribution = [0.46, 0.54]\n",
        "overtime_distribution = [0.3, 0.7]\n",
        "performance_distribution = [0.2, 0.3, 0.4, 0.1]\n",
        "\n",
        "# Helper functions\n",
        "def random_date(start, end, prop):\n",
        "    return start + prop * (end - start)\n",
        "\n",
        "def generate_employee_id(n):\n",
        "    return [f'E{str(i).zfill(6)}' for i in range(1, n+1)]\n",
        "\n",
        "def generate_hire_date(n):\n",
        "    start_date = pd.to_datetime('2015-01-01')\n",
        "    end_date = pd.to_datetime('2024-01-01')\n",
        "    return [random_date(start_date, end_date, random.random()) for _ in range(n)]\n",
        "\n",
        "def generate_termination_date(hire_dates):\n",
        "    termination_dates = []\n",
        "    for hire_date in hire_dates:\n",
        "        if random.random() < 0.112:\n",
        "            start_date = hire_date + pd.DateOffset(months=6)\n",
        "            end_date = pd.to_datetime('2024-08-01')\n",
        "            termination_date = random_date(start_date, end_date, random.random())\n",
        "            termination_dates.append(termination_date)\n",
        "        else:\n",
        "            termination_dates.append(None)\n",
        "    return termination_dates\n",
        "\n",
        "def generate_salaries(department, job_title):\n",
        "    salary_ranges = {\n",
        "        'HR Manager': (70000, 90000),\n",
        "        'HR Assistant': (40000, 60000),\n",
        "        'HR Specialist': (50000, 70000),\n",
        "        'Software Engineer': (80000, 110000),\n",
        "        'Senior Software Engineer': (100000, 140000),\n",
        "        'Engineering Manager': (120000, 160000),\n",
        "        'Sales Manager': (70000, 100000),\n",
        "        'Sales Representative': (50000, 70000),\n",
        "        'Sales Associate': (35000, 50000),\n",
        "        'Finance Manager': (90000, 120000),\n",
        "        'Financial Analyst': (60000, 80000),\n",
        "        'Accountant': (50000, 70000)\n",
        "    }\n",
        "    min_salary, max_salary = salary_ranges[job_title]\n",
        "    return random.randint(min_salary, max_salary)\n",
        "\n",
        "def adjusted_salary(base_salary, gender, education_level, age):\n",
        "    gender_multiplier = 1.02 if gender == 'Male' else 1.0\n",
        "    education_multiplier = 1.1 if education_level in ['Master\\'s', 'PhD'] else 1.0\n",
        "    age_multiplier = 1.05 if age >= 45 else 1.0\n",
        "    return base_salary * gender_multiplier * education_multiplier * age_multiplier\n",
        "\n",
        "# Generate dataset\n",
        "data = {\n",
        "    'Employee ID': generate_employee_id(n_records),\n",
        "    'First Name': [fake.first_name() for _ in range(n_records)],\n",
        "    'Last Name': [fake.last_name() for _ in range(n_records)],\n",
        "    'Gender': np.random.choice(['Female', 'Male'], n_records, p=gender_distribution),\n",
        "    'State': [],\n",
        "    'City': [],\n",
        "    'Hire Date': generate_hire_date(n_records),\n",
        "    'Department': [],\n",
        "    'Job Title': [],\n",
        "    'Education Level': [],\n",
        "    'Performance Rating': np.random.choice(performance_ratings, n_records, p=performance_distribution),\n",
        "    'Overtime': np.random.choice(['Yes', 'No'], n_records, p=overtime_distribution),\n",
        "    'Salary': [],\n",
        "    'Birth Date': [],\n",
        "    'Termination Date': [],\n",
        "    'Adjusted Salary': []\n",
        "}\n",
        "\n",
        "# Populate State, City, Department, Job Title, Education Level, Salary, Birth Date, and Adjusted Salary\n",
        "for i in range(n_records):\n",
        "    state = random.choice(list(states_and_cities.keys()))\n",
        "    city = random.choice(states_and_cities[state])\n",
        "    data['State'].append(state)\n",
        "    data['City'].append(city)\n",
        "\n",
        "    department = random.choice(list(departments.keys()))\n",
        "    job_title = random.choice(departments[department])\n",
        "    data['Department'].append(department)\n",
        "    data['Job Title'].append(job_title)\n",
        "    data['Education Level'].append(education_levels[job_title])\n",
        "\n",
        "    salary = generate_salaries(department, job_title)\n",
        "    data['Salary'].append(salary)\n",
        "\n",
        "    hire_date = data['Hire Date'][i]\n",
        "    age_at_hire = random.randint(22, 60)\n",
        "    birth_date = hire_date - pd.DateOffset(years=age_at_hire)\n",
        "    data['Birth Date'].append(birth_date)\n",
        "\n",
        "    data['Termination Date'].append(None) # Placeholder, we'll update this next\n",
        "\n",
        "    age = pd.Timestamp('2024-08-01').year - birth_date.year\n",
        "    adj_salary = adjusted_salary(salary, data['Gender'][i], data['Education Level'][i], age)\n",
        "    data['Adjusted Salary'].append(adj_salary)\n",
        "\n",
        "# Update Termination Dates\n",
        "data['Termination Date'] = generate_termination_date(data['Hire Date'])\n",
        "\n",
        "# Create DataFrame\n",
        "df = pd.DataFrame(data)\n",
        "\n",
        "# Save to CSV\n",
        "df.to_csv('hr_dataset.csv', index=False)\n",
        "\n",
        "print(\"Dataset generated and saved to hr_dataset.csv\")\n"
      ],
      "metadata": {
        "colab": {
          "base_uri": "https://localhost:8080/"
        },
        "id": "xHnjwCC2VaLr",
        "outputId": "fecbf8af-8346-477c-a9e5-5663f6412df2"
      },
      "execution_count": 4,
      "outputs": [
        {
          "output_type": "stream",
          "name": "stderr",
          "text": [
            "<ipython-input-4-5d4752f42399>:129: UserWarning: Discarding nonzero nanoseconds in conversion.\n",
            "  birth_date = hire_date - pd.DateOffset(years=age_at_hire)\n",
            "<ipython-input-4-5d4752f42399>:59: UserWarning: Discarding nonzero nanoseconds in conversion.\n",
            "  start_date = hire_date + pd.DateOffset(months=6)\n"
          ]
        },
        {
          "output_type": "stream",
          "name": "stdout",
          "text": [
            "Dataset generated and saved to hr_dataset.csv\n"
          ]
        }
      ]
    }
  ]
}